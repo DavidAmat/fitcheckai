{
 "cells": [
  {
   "cell_type": "code",
   "execution_count": 1,
   "metadata": {},
   "outputs": [],
   "source": [
    "import os\n",
    "os.chdir(\"/home/david/Documents/data_science/projects/fitcheckai/poc/chatbot_api/\")\n",
    "from api.chatbot_manager import ChatbotManager\n",
    "from PIL import Image\n",
    "import io\n",
    "import requests\n",
    "import json\n",
    "base_url = \"http://127.0.0.1:8000/api\""
   ]
  },
  {
   "cell_type": "markdown",
   "metadata": {},
   "source": [
    "# Ping"
   ]
  },
  {
   "cell_type": "code",
   "execution_count": 2,
   "metadata": {},
   "outputs": [],
   "source": [
    "response = requests.get(f\"{base_url}/ping/\")"
   ]
  },
  {
   "cell_type": "code",
   "execution_count": 3,
   "metadata": {},
   "outputs": [
    {
     "data": {
      "text/plain": [
       "<Response [200]>"
      ]
     },
     "execution_count": 3,
     "metadata": {},
     "output_type": "execute_result"
    }
   ],
   "source": [
    "response"
   ]
  },
  {
   "cell_type": "code",
   "execution_count": 4,
   "metadata": {},
   "outputs": [
    {
     "data": {
      "text/plain": [
       "b'{\"status\":\"OK\"}'"
      ]
     },
     "execution_count": 4,
     "metadata": {},
     "output_type": "execute_result"
    }
   ],
   "source": [
    "response.content"
   ]
  },
  {
   "cell_type": "markdown",
   "metadata": {},
   "source": [
    "# Run image with message"
   ]
  },
  {
   "cell_type": "code",
   "execution_count": 5,
   "metadata": {},
   "outputs": [],
   "source": [
    "# Load image\n",
    "image_path = \"/home/david/Documents/data_science/projects/fitcheckai/poc/chatbot_api/scripts/look3.jpg\"\n",
    "image_binary = ChatbotManager.load_image_as_binary(image_path)"
   ]
  },
  {
   "cell_type": "code",
   "execution_count": 6,
   "metadata": {},
   "outputs": [],
   "source": [
    "# Show image\n",
    "image_io = io.BytesIO(image_binary)\n",
    "image = Image.open(image_io)\n",
    "image.show()"
   ]
  },
  {
   "cell_type": "code",
   "execution_count": 7,
   "metadata": {},
   "outputs": [],
   "source": [
    "# Input\n",
    "data = {\n",
    "    \"image_name\": None,\n",
    "    \"occasion\": \"Velada del Año\",\n",
    "    \"message\": \"Voy de invitada a la Velada del Año de Ibai, como voy ?\",\n",
    "\n",
    "}\n",
    "endpoint = f\"{base_url}/submit_image_message/\""
   ]
  },
  {
   "cell_type": "code",
   "execution_count": 8,
   "metadata": {},
   "outputs": [],
   "source": [
    "# Prepare the files parameter\n",
    "with open(image_path, 'rb') as image_file:\n",
    "    files = {'image': image_file}\n",
    "    response = requests.post(endpoint, data=data, files=files)"
   ]
  },
  {
   "cell_type": "code",
   "execution_count": 9,
   "metadata": {},
   "outputs": [],
   "source": [
    "d_response = json.loads(response.content)"
   ]
  },
  {
   "cell_type": "code",
   "execution_count": 10,
   "metadata": {},
   "outputs": [
    {
     "data": {
      "text/plain": [
       "{'response': 'Para la Velada del Año de Ibai, tu outfit debe ser tanto chic como apropiado para un evento de alto perfil. La camisa que llevas parece cómoda y tiene un color cálido, lo cual es un buen punto de partida. Sin embargo, aquí hay algunas sugerencias para mejorar y asegurarte de estar a la altura de la ocasión:\\n\\n1. **Complementos**: Agregar accesorios elegantes, como unos aretes llamativos o un collar, puede elevar el look. Una pulsera elegante o un bolso de mano también podría sumar.\\n\\n2. **Pantalones o Falda**: Dependiendo del diseño de la camisa, sería ideal combinarla con unos pantalones de vestir o una falda bonita. Si es una camisa muy casual, puede que necesites algo más formal en la parte inferior.\\n\\n3. **Zapatos**: Unos zapatos de tacón o unas zapatillas elegantes pueden hacer que tu outfit se vea más pulido. Evita cosas demasiado informales.\\n\\n4. **Maquillaje y Peinado**: Asegúrate de que tu maquillaje y peinado estén bien cuidados. Un peinado suelto y ondas suaves pueden complementar el look muy bien.\\n\\nEn general, tu outfit parece tener un buen comienzo, pero con algunas mejoras y detalles adicionales puedes convertirlo en un look más adecuado para un evento especial. ¡Diviértete en la Velada!',\n",
       " 'file_id': 'file-PHufECQXiLf8ajvpT0jvdGte',\n",
       " 'thread_id': 'thread_MulOegUB58d9po5qOhtwwk9l',\n",
       " 'assistant_id': 'asst_eD44oaG44nc61tAsgOoF2opO',\n",
       " 'run_id': 'run_xnzGN0SHINuRhHbaP7cwn9HB',\n",
       " 'metadata': {'occasion': 'General chat',\n",
       "  'image_name': None,\n",
       "  'input_message': 'Voy de invitada a la Velada del Año de Ibai, como voy ?'}}"
      ]
     },
     "execution_count": 10,
     "metadata": {},
     "output_type": "execute_result"
    }
   ],
   "source": [
    "d_response"
   ]
  },
  {
   "cell_type": "markdown",
   "metadata": {},
   "source": [
    "# Run text to thread"
   ]
  },
  {
   "cell_type": "code",
   "execution_count": 11,
   "metadata": {},
   "outputs": [],
   "source": [
    "# Define the data payload\n",
    "thread_id = \"thread_jXmxuV10H5XWXQCNrxcdxM0W\"\n",
    "# thread_id = d_response[\"thread_id\"]\n",
    "\n",
    "data = {\n",
    "    \"thread_id\": thread_id,\n",
    "    \"message\": \"Debería cambiar algo?\",\n",
    "}\n",
    "endpoint = f\"{base_url}/submit_text_message/\""
   ]
  },
  {
   "cell_type": "code",
   "execution_count": 12,
   "metadata": {},
   "outputs": [],
   "source": [
    "# Make the POST request to the endpoint\n",
    "response = requests.post(endpoint, json=data)"
   ]
  },
  {
   "cell_type": "code",
   "execution_count": 13,
   "metadata": {},
   "outputs": [],
   "source": [
    "d_response_text = json.loads(response.content)"
   ]
  },
  {
   "cell_type": "code",
   "execution_count": 14,
   "metadata": {},
   "outputs": [
    {
     "data": {
      "text/plain": [
       "{'response': 'Para ajustar tu outfit y hacerlo más adecuado para una fiesta en Ibiza, podrías considerar lo siguiente:\\n\\n- **Agregar Accesorios**: Añade joyería llamativa, como collares o pulseras, que resalten y den un toque festivo.\\n  \\n- **Calzado**: Opta por zapatos más audaces o cómodos (como sandalias de plataforma o botines) que se alineen con la estética de fiesta.\\n\\n- **Cambiar el Estilo**: Si tienes la posibilidad, considera una prenda más ligera o con un corte más atrevido, como un vestido de verano o un conjunto más vibrante.\\n\\n- **Nail Art**: Si te gusta, agregar un diseño divertido en las uñas puede ser un gran toque.\\n\\nRecuerda que lo más importante es que te sientas cómoda y segura con lo que lleves puesto. ¡Diviértete en la fiesta!',\n",
       " 'thread_id': 'thread_jXmxuV10H5XWXQCNrxcdxM0W',\n",
       " 'assistant_id': 'asst_eD44oaG44nc61tAsgOoF2opO',\n",
       " 'run_id': 'run_kIRfhmd0ja5f7mqETC6OHHcF'}"
      ]
     },
     "execution_count": 14,
     "metadata": {},
     "output_type": "execute_result"
    }
   ],
   "source": [
    "d_response_text"
   ]
  },
  {
   "cell_type": "code",
   "execution_count": null,
   "metadata": {},
   "outputs": [],
   "source": [
    "# Questions\n",
    "# What nail color am I wearing?\n",
    "# Am I wearing a ring? In which finger ?\n",
    "# Am I wearing a watch? In which arm ?\n",
    "# Make a summary list of my previous questions in this thread, very minimalistic, just bullet points with main questions?"
   ]
  }
 ],
 "metadata": {
  "kernelspec": {
   "display_name": "env_fitgpt",
   "language": "python",
   "name": "python3"
  },
  "language_info": {
   "codemirror_mode": {
    "name": "ipython",
    "version": 3
   },
   "file_extension": ".py",
   "mimetype": "text/x-python",
   "name": "python",
   "nbconvert_exporter": "python",
   "pygments_lexer": "ipython3",
   "version": "3.9.11"
  }
 },
 "nbformat": 4,
 "nbformat_minor": 2
}
