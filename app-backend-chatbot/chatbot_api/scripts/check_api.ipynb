{
 "cells": [
  {
   "cell_type": "code",
   "execution_count": 1,
   "metadata": {},
   "outputs": [],
   "source": [
    "import os\n",
    "os.chdir(\"/home/david/Documents/data_science/projects/fitcheckai/poc/chatbot_api/\")\n",
    "from api.chatbot_manager import ChatbotManager\n",
    "from PIL import Image\n",
    "import io\n",
    "import requests\n",
    "import json\n",
    "base_url = \"http://127.0.0.1:8000/api\""
   ]
  },
  {
   "cell_type": "markdown",
   "metadata": {},
   "source": [
    "# Ping"
   ]
  },
  {
   "cell_type": "code",
   "execution_count": 2,
   "metadata": {},
   "outputs": [],
   "source": [
    "response = requests.get(f\"{base_url}/ping/\")"
   ]
  },
  {
   "cell_type": "code",
   "execution_count": 3,
   "metadata": {},
   "outputs": [
    {
     "data": {
      "text/plain": [
       "<Response [200]>"
      ]
     },
     "execution_count": 3,
     "metadata": {},
     "output_type": "execute_result"
    }
   ],
   "source": [
    "response"
   ]
  },
  {
   "cell_type": "code",
   "execution_count": 4,
   "metadata": {},
   "outputs": [
    {
     "data": {
      "text/plain": [
       "b'{\"status\":\"OK\"}'"
      ]
     },
     "execution_count": 4,
     "metadata": {},
     "output_type": "execute_result"
    }
   ],
   "source": [
    "response.content"
   ]
  },
  {
   "cell_type": "markdown",
   "metadata": {},
   "source": [
    "# Run image with message"
   ]
  },
  {
   "cell_type": "code",
   "execution_count": 18,
   "metadata": {},
   "outputs": [],
   "source": [
    "# Load image\n",
    "image_path = \"/home/david/Documents/data_science/projects/fitcheckai/poc/chatbot_api/scripts/look3.jpg\"\n",
    "image_binary = ChatbotManager.load_image_as_binary(image_path)"
   ]
  },
  {
   "cell_type": "code",
   "execution_count": 29,
   "metadata": {},
   "outputs": [],
   "source": [
    "# Show image\n",
    "image_io = io.BytesIO(image_binary)\n",
    "image = Image.open(image_io)\n",
    "image.show()"
   ]
  },
  {
   "cell_type": "code",
   "execution_count": 7,
   "metadata": {},
   "outputs": [],
   "source": [
    "# Input\n",
    "data = {\n",
    "    \"image_name\": None,\n",
    "    \"occasion\": \"Velada del Año\",\n",
    "    \"message\": \"Voy de invitada a la Velada del Año de Ibai, como voy ?\",\n",
    "\n",
    "}\n",
    "endpoint = f\"{base_url}/submit_image_message/\""
   ]
  },
  {
   "cell_type": "code",
   "execution_count": 8,
   "metadata": {},
   "outputs": [],
   "source": [
    "# Prepare the files parameter\n",
    "with open(image_path, 'rb') as image_file:\n",
    "    files = {'image': image_file}\n",
    "    response = requests.post(endpoint, data=data, files=files)"
   ]
  },
  {
   "cell_type": "code",
   "execution_count": 9,
   "metadata": {},
   "outputs": [],
   "source": [
    "d_response = json.loads(response.content)"
   ]
  },
  {
   "cell_type": "code",
   "execution_count": 10,
   "metadata": {},
   "outputs": [
    {
     "data": {
      "text/plain": [
       "{'response': 'Tu elección de atuendo para la Velada del Año de Ibai es fantástica. El vestido rojo con transparencias es llamativo y elegante, perfecto para un evento que promete ser especial y lleno de glamour. Los tacones altos añaden un toque de sofisticación, dándote una apariencia esbelta y estilizada.\\n\\nAquí están algunos aspectos positivos y sugerencias:\\n\\n### Aspectos Positivos:\\n1. **Color Vibrante:** El rojo es un color audaz y llamativo que se destaca en cualquier evento.\\n2. **Elegancia:** Las transparencias y el diseño del vestido aportan un aire glamuroso y moderno.\\n3. **Accesorios y Maquillaje:** Si has complementado tu outfit con unos buenos accesorios y un maquillaje que resalte tus rasgos, ¡eso elevará aún más tu apariencia!\\n\\n### Sugerencias:\\n1. **Calzado:** Asegúrate de que los tacones son cómodos, ya que estarás en un evento posiblemente largo.\\n2. **Adaptación al Clima:** Considera el clima en el que se llevará a cabo la velada; si hace frío, puede que necesites un abrigo.\\n3. **Mantenimiento del Look:** Lleva contigo algunos productos básicos para retocar el maquillaje a lo largo de la noche.\\n\\nEn general, ¡estás lista para impresionar! Disfruta de la Velada del Año.',\n",
       " 'file_id': 'file-UEsMCqh2m9c2WFcV3iclAPkl',\n",
       " 'thread_id': 'thread_FOv2vHzndoVoE22RHlbeB8B4',\n",
       " 'assistant_id': 'asst_eD44oaG44nc61tAsgOoF2opO',\n",
       " 'run_id': 'run_0a3Z7fj2Epp2IICnOUaTJUoV',\n",
       " 'metadata': {'occasion': 'General chat',\n",
       "  'image_name': None,\n",
       "  'input_message': 'Voy de invitada a la Velada del Año de Ibai, como voy ?'}}"
      ]
     },
     "execution_count": 10,
     "metadata": {},
     "output_type": "execute_result"
    }
   ],
   "source": [
    "d_response"
   ]
  },
  {
   "cell_type": "markdown",
   "metadata": {},
   "source": [
    "# Run text to thread"
   ]
  },
  {
   "cell_type": "code",
   "execution_count": 32,
   "metadata": {},
   "outputs": [],
   "source": [
    "# Define the data payload\n",
    "thread_id = \"thread_jXmxuV10H5XWXQCNrxcdxM0W\"\n",
    "# thread_id = d_response[\"thread_id\"]\n",
    "\n",
    "data = {\n",
    "    \"thread_id\": thread_id,\n",
    "    \"message\": \"Make a summary list of my previous questions in this thread, very minimalistic, just bullet points with main questions?\",\n",
    "}\n",
    "endpoint = f\"{base_url}/submit_text_message/\""
   ]
  },
  {
   "cell_type": "code",
   "execution_count": 33,
   "metadata": {},
   "outputs": [],
   "source": [
    "# Make the POST request to the endpoint\n",
    "response = requests.post(endpoint, json=data)"
   ]
  },
  {
   "cell_type": "code",
   "execution_count": 27,
   "metadata": {},
   "outputs": [],
   "source": [
    "d_response_text = json.loads(response.content)"
   ]
  },
  {
   "cell_type": "code",
   "execution_count": 28,
   "metadata": {},
   "outputs": [
    {
     "data": {
      "text/plain": [
       "{'response': 'Yes, you are wearing a ring on your right hand, specifically on your middle finger. The ring is noticeable and adds a nice touch to your overall look.',\n",
       " 'thread_id': 'thread_jXmxuV10H5XWXQCNrxcdxM0W',\n",
       " 'assistant_id': 'asst_eD44oaG44nc61tAsgOoF2opO',\n",
       " 'run_id': 'run_rXnQux1tsjCkSvIaVv78yyKI'}"
      ]
     },
     "execution_count": 28,
     "metadata": {},
     "output_type": "execute_result"
    }
   ],
   "source": [
    "d_response_text"
   ]
  },
  {
   "cell_type": "code",
   "execution_count": null,
   "metadata": {},
   "outputs": [],
   "source": [
    "# Questions\n",
    "# What nail color am I wearing?\n",
    "# Am I wearing a ring? In which finger ?\n",
    "# Am I wearing a watch? In which arm ?\n",
    "# Make a summary list of my previous questions in this thread, very minimalistic, just bullet points with main questions?"
   ]
  }
 ],
 "metadata": {
  "kernelspec": {
   "display_name": "env_fitgpt",
   "language": "python",
   "name": "python3"
  },
  "language_info": {
   "codemirror_mode": {
    "name": "ipython",
    "version": 3
   },
   "file_extension": ".py",
   "mimetype": "text/x-python",
   "name": "python",
   "nbconvert_exporter": "python",
   "pygments_lexer": "ipython3",
   "version": "3.9.11"
  }
 },
 "nbformat": 4,
 "nbformat_minor": 2
}
