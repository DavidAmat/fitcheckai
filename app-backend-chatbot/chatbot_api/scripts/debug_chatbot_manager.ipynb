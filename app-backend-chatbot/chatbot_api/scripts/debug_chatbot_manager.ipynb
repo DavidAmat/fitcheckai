{
 "cells": [
  {
   "cell_type": "code",
   "execution_count": 12,
   "metadata": {},
   "outputs": [],
   "source": [
    "import os\n",
    "os.chdir(\"/home/david/Documents/data_science/projects/fitcheckai/poc/chatbot_api/\")\n",
    "from api.chatbot_manager import ChatbotManager\n",
    "from PIL import Image\n",
    "import io"
   ]
  },
  {
   "cell_type": "markdown",
   "metadata": {},
   "source": [
    "# Load and Show the Image"
   ]
  },
  {
   "cell_type": "code",
   "execution_count": null,
   "metadata": {},
   "outputs": [],
   "source": [
    "# Load image\n",
    "image_path = \"/home/david/Documents/data_science/projects/fitcheckai/poc/chatbot_api/scripts/look3.jpg\"\n",
    "image_binary = ChatbotManager.load_image_as_binary(image_path)"
   ]
  },
  {
   "cell_type": "code",
   "execution_count": 23,
   "metadata": {},
   "outputs": [],
   "source": [
    "# Show image\n",
    "image_io = io.BytesIO(image_binary)\n",
    "image = Image.open(image_io)\n",
    "image.show()"
   ]
  },
  {
   "cell_type": "markdown",
   "metadata": {},
   "source": [
    "# Run the submission of an image with text"
   ]
  },
  {
   "cell_type": "code",
   "execution_count": 15,
   "metadata": {},
   "outputs": [],
   "source": [
    "manager = ChatbotManager(occasion=\"Ibiza party\")"
   ]
  },
  {
   "cell_type": "code",
   "execution_count": 16,
   "metadata": {},
   "outputs": [
    {
     "name": "stdout",
     "output_type": "stream",
     "text": [
      "AssistantID: asst_eD44oaG44nc61tAsgOoF2opO\n",
      "Uploaded File ID: file-NFvW02EihnkOSzYlCop3L785\n",
      "RunID: run_8Vy0HLXvouyFFa7MlsQEIbwh\n",
      "SUMMARY-----> Assistant: ==> For an Ibiza party, the outfit you're wearing would be considered somewhat casual and understated. While the orange shirt dress has a relaxed vibe, Ibiza parties often lean towards vibrant, colorful, and more playful outfits. \n",
      "\n",
      "Here are some aspects to consider:\n",
      "- **Color**: The orange color is a nice choice for Ibiza, as it’s bright and lively. \n",
      "- **Style**: A shirt dress can be stylish but may not feel festive enough for an Ibiza party where more flamboyant styles are common.\n",
      "- **Accessories**: Consider adding some statement accessories, such as bold jewelry, a stylish belt, or fun sandals, to elevate your look.\n",
      "- **Footwear**: Make sure to wear comfortable and stylish footwear, such as platform sandals or fun wedges, which can complement your outfit better for a party setting.\n",
      "\n",
      "Overall, while your outfit is cute and appropriate for a casual setting, you might want to add bolder elements to better fit the Ibiza party atmosphere.\n"
     ]
    }
   ],
   "source": [
    "result = manager.submit_image_with_text(\n",
    "    image_binary=image_binary,\n",
    "    message=\"Is this appropriate for my party ?\",\n",
    ")"
   ]
  },
  {
   "cell_type": "code",
   "execution_count": 17,
   "metadata": {},
   "outputs": [
    {
     "data": {
      "text/plain": [
       "{'response': \"For an Ibiza party, the outfit you're wearing would be considered somewhat casual and understated. While the orange shirt dress has a relaxed vibe, Ibiza parties often lean towards vibrant, colorful, and more playful outfits. \\n\\nHere are some aspects to consider:\\n- **Color**: The orange color is a nice choice for Ibiza, as it’s bright and lively. \\n- **Style**: A shirt dress can be stylish but may not feel festive enough for an Ibiza party where more flamboyant styles are common.\\n- **Accessories**: Consider adding some statement accessories, such as bold jewelry, a stylish belt, or fun sandals, to elevate your look.\\n- **Footwear**: Make sure to wear comfortable and stylish footwear, such as platform sandals or fun wedges, which can complement your outfit better for a party setting.\\n\\nOverall, while your outfit is cute and appropriate for a casual setting, you might want to add bolder elements to better fit the Ibiza party atmosphere.\",\n",
       " 'file_id': 'file-NFvW02EihnkOSzYlCop3L785',\n",
       " 'thread_id': 'thread_oB7mzZwimQ1oJAxfwzA8vDvq',\n",
       " 'assistant_id': 'asst_eD44oaG44nc61tAsgOoF2opO',\n",
       " 'run_id': 'run_8Vy0HLXvouyFFa7MlsQEIbwh'}"
      ]
     },
     "execution_count": 17,
     "metadata": {},
     "output_type": "execute_result"
    }
   ],
   "source": [
    "result"
   ]
  },
  {
   "cell_type": "code",
   "execution_count": null,
   "metadata": {},
   "outputs": [],
   "source": []
  }
 ],
 "metadata": {
  "kernelspec": {
   "display_name": "env_fitgpt",
   "language": "python",
   "name": "python3"
  },
  "language_info": {
   "codemirror_mode": {
    "name": "ipython",
    "version": 3
   },
   "file_extension": ".py",
   "mimetype": "text/x-python",
   "name": "python",
   "nbconvert_exporter": "python",
   "pygments_lexer": "ipython3",
   "version": "3.9.11"
  }
 },
 "nbformat": 4,
 "nbformat_minor": 2
}
